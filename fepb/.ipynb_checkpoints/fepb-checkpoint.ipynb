{
 "cells": [
  {
   "cell_type": "code",
   "execution_count": 7,
   "metadata": {},
   "outputs": [],
   "source": [
    "import pandas as pd \n",
    "import numpy as np"
   ]
  },
  {
   "cell_type": "code",
   "execution_count": 8,
   "metadata": {},
   "outputs": [],
   "source": [
    "df = pd.read_csv(\"fepB_complete.csv\")"
   ]
  },
  {
   "cell_type": "code",
   "execution_count": 9,
   "metadata": {},
   "outputs": [],
   "source": [
    "def target_var(data):\n",
    "    y = data[['R1','R2','R3','R4','R5','R6','R7','R8']].copy()\n",
    "    flu_level = [0.5,1.5,2.5,3.5,4.5,5.5,6.5,7.5]\n",
    "    \n",
    "    y['total'] = y.sum(axis=1)\n",
    "    y = y[['R1','R2','R3','R4','R5','R6','R7','R8']].div(y.total,axis=0)\n",
    "    y *= flu_level\n",
    "    y['weighted_mean'] = y.sum(axis=1)  \n",
    "    \n",
    "    return y['weighted_mean']\n"
   ]
  },
  {
   "cell_type": "code",
   "execution_count": 10,
   "metadata": {},
   "outputs": [],
   "source": [
    "y = target_var(df)"
   ]
  },
  {
   "cell_type": "code",
   "execution_count": 11,
   "metadata": {},
   "outputs": [
    {
     "data": {
      "text/plain": [
       "0    3.052846\n",
       "1    3.405697\n",
       "2    3.541063\n",
       "3    3.424590\n",
       "4    2.518987\n",
       "Name: weighted_mean, dtype: float64"
      ]
     },
     "execution_count": 11,
     "metadata": {},
     "output_type": "execute_result"
    }
   ],
   "source": [
    "y.head()"
   ]
  }
 ],
 "metadata": {
  "kernelspec": {
   "display_name": "Python 3",
   "language": "python",
   "name": "python3"
  },
  "language_info": {
   "codemirror_mode": {
    "name": "ipython",
    "version": 3
   },
   "file_extension": ".py",
   "mimetype": "text/x-python",
   "name": "python",
   "nbconvert_exporter": "python",
   "pygments_lexer": "ipython3",
   "version": "3.8.5"
  }
 },
 "nbformat": 4,
 "nbformat_minor": 4
}
