{
  "nbformat": 4,
  "nbformat_minor": 0,
  "metadata": {
    "colab": {
      "name": "CNNModel.ipynb",
      "provenance": [],
      "mount_file_id": "1ICgYJrwQzKnzSt2MmrUD8VqIz4Qezb_e",
      "authorship_tag": "ABX9TyNW34djOR09GkdMYHw2IIzp",
      "include_colab_link": true
    },
    "kernelspec": {
      "name": "python3",
      "display_name": "Python 3"
    },
    "language_info": {
      "name": "python"
    }
  },
  "cells": [
    {
      "cell_type": "markdown",
      "metadata": {
        "id": "view-in-github",
        "colab_type": "text"
      },
      "source": [
        "<a href=\"https://colab.research.google.com/github/Alfred0325/Applied_Data_Science/blob/main/CNNModel.ipynb\" target=\"_parent\"><img src=\"https://colab.research.google.com/assets/colab-badge.svg\" alt=\"Open In Colab\"/></a>"
      ]
    },
    {
      "cell_type": "code",
      "source": [
        "#configuration:\n",
        "shape = (1,38)\n",
        "input_shape = (38,1)\n",
        "drop = False\n",
        "filters=128\n",
        "kernel_size=1\n",
        "loss='mean_squared_error'\n",
        "optimizer='adam' \n",
        "metrics='mse'"
      ],
      "metadata": {
        "id": "jlJHg8SLV5F6"
      },
      "execution_count": null,
      "outputs": []
    },
    {
      "cell_type": "code",
      "execution_count": null,
      "metadata": {
        "id": "JNMXByjCVTW6"
      },
      "outputs": [],
      "source": [
        "\n",
        "from sklearn.model_selection import train_test_split\n",
        "from tensorflow.keras.layers import Conv1D, Dense, MaxPooling1D, Flatten\n",
        "from tensorflow.keras.models import Sequential\n",
        "\n",
        "class CNNModel():\n",
        "    def __init__(self, filters=128, kernel_size=1, input_shape=(9,4) ):\n",
        "        super()\n",
        "        self.filters = filters\n",
        "        self.kernel_size = kernel_size\n",
        "        self.input_shape = input_shape\n",
        "\n",
        "    def get_model(self, loss='mean_squared_error', optimizer='adam', metrics='mse'):\n",
        "        model = Sequential()\n",
        "        model.add(Conv1D( filters =self.filters, kernel_size=self.kernel_size, input_shape=self.input_shape))\n",
        "        model.add(Flatten())\n",
        "        model.add(Dense((self.filters * (self.input_shape[0]-self.kernel_size+1) ), activation='relu'))\n",
        "        model.add(Dense(16,activation='linear'))\n",
        "        model.add(Dense(16,activation='relu'))\n",
        "        model.add(Dense(1, activation='linear'))\n",
        "\n",
        "        model.compile(loss=loss, optimizer=optimizer, metrics=[metrics])\n",
        "        print(model.summary())\n",
        "        return model"
      ]
    },
    {
      "cell_type": "code",
      "source": [
        "import pandas as pd \n",
        "import numpy as np\n",
        "from sklearn.model_selection import train_test_split\n",
        "\n",
        "class ReadData():\n",
        "    def __init__(self, x_path = \"X_train.csv\", y_path = \"y_train.csv\"):\n",
        "        super()\n",
        "        self.x_path = x_path\n",
        "        self.y_path = y_path\n",
        "\n",
        "    def get_data(self, shape=(36,1), drop = True):\n",
        "        train_x = pd.read_csv(self.x_path)\n",
        "        target = pd.read_csv(self.y_path)\n",
        "        if drop:\n",
        "            train_x = train_x.drop([\"dG_pairing\",'dG_folding'],axis=1)\n",
        "        np_x = train_x.to_numpy()\n",
        "        np_y = target.to_numpy()\n",
        "\n",
        "        dataX = []\n",
        "        for row in np_x: \n",
        "            x = np.array(row[:])\n",
        "            # x = np.reshape(x, shape)\n",
        "            x = x.T\n",
        "            dataX.append(x)\n",
        "        \n",
        "        np_x = np.array(dataX)\n",
        "        return np_x, np_y\n",
        "\n",
        "    def get_train_test_data(self, shape=(36,1), drop = True, test_size=0.25, random_state=42):\n",
        "        np_x, np_y = self.get_data(shape, drop)\n",
        "        train_x, test_x, train_y, test_y = train_test_split(np_x ,np_y, test_size=test_size, random_state=random_state)\n",
        "        return train_x, test_x, train_y, test_y"
      ],
      "metadata": {
        "id": "gaEf3mm-VzqN"
      },
      "execution_count": null,
      "outputs": []
    },
    {
      "cell_type": "code",
      "source": [
        "import matplotlib.pyplot as plt\n",
        "\n",
        "class PlotLoss():\n",
        "    def __init__(self):\n",
        "        super()\n",
        "\n",
        "    def plot(self, history):\n",
        "        plt.figure()\n",
        "        plt.plot(history.history['loss'])\n",
        "        plt.plot(history.history['val_loss'])\n",
        "        plt.title('model loss')\n",
        "        plt.ylabel('loss')\n",
        "        plt.xlabel('epoch')\n",
        "        plt.legend(['train', 'validation'])\n",
        "        # plt.savefig('lossVSval_loss.png')\n",
        "        plt.show()"
      ],
      "metadata": {
        "id": "j54EopVQXoiC"
      },
      "execution_count": null,
      "outputs": []
    },
    {
      "cell_type": "code",
      "source": [
        "reader = ReadData()\n",
        "train_x, train_y = reader.get_data(shape, drop)\n",
        "model = CNNModel(filters,kernel_size, input_shape).get_model(loss, optimizer, metrics)\n",
        "history = model.fit(train_x, train_y, epochs=10, verbose=3, validation_split=0.25)\n",
        "PlotLoss().plot(history)"
      ],
      "metadata": {
        "colab": {
          "base_uri": "https://localhost:8080/",
          "height": 897
        },
        "id": "XX8MEqFmWD-S",
        "outputId": "4f5d178b-7a86-426a-d542-383949f4d50e"
      },
      "execution_count": null,
      "outputs": [
        {
          "metadata": {
            "tags": null
          },
          "name": "stdout",
          "output_type": "stream",
          "text": [
            "[ 0.   0.   1.   0.   0.   1.   1.   0.   0.   1.   0.   0.   0.   1.\n",
            "  0.   0.   1.   0.   0.   0.   0.   0.   0.   0.   0.   0.   1.   0.\n",
            "  1.   0.   1.   0.   0.   0.   0.   0.   0.  -6.8]\n",
            "Model: \"sequential_1\"\n",
            "_________________________________________________________________\n",
            " Layer (type)                Output Shape              Param #   \n",
            "=================================================================\n",
            " conv1d_1 (Conv1D)           (None, 38, 128)           256       \n",
            "                                                                 \n",
            " flatten_1 (Flatten)         (None, 4864)              0         \n",
            "                                                                 \n",
            " dense_4 (Dense)             (None, 4864)              23663360  \n",
            "                                                                 \n",
            " dense_5 (Dense)             (None, 16)                77840     \n",
            "                                                                 \n",
            " dense_6 (Dense)             (None, 16)                272       \n",
            "                                                                 \n",
            " dense_7 (Dense)             (None, 1)                 17        \n",
            "                                                                 \n",
            "=================================================================\n",
            "Total params: 23,741,745\n",
            "Trainable params: 23,741,745\n",
            "Non-trainable params: 0\n",
            "_________________________________________________________________\n",
            "None\n",
            "Epoch 1/10\n",
            "Epoch 2/10\n",
            "Epoch 3/10\n"
          ]
        },
        {
          "output_type": "error",
          "ename": "KeyboardInterrupt",
          "evalue": "ignored",

    },
    {
      "cell_type": "code",
      "source": [
        ""
      ],
      "metadata": {
        "id": "w3XnhBySXIgp"
      },
      "execution_count": null,
      "outputs": []
    }
  ]
}
