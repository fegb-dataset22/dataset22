{
 "cells": [
  {
   "cell_type": "code",
   "execution_count": 15,
   "outputs": [],
   "source": [
    "import os\n",
    "\n",
    "import matplotlib.pyplot as plt\n",
    "import pandas as pd\n",
    "from sklearn.ensemble import RandomForestRegressor\n",
    "\n",
    "from root import ROOT_DIR\n",
    "from weighted_mean_prediction.data_setup import get_encoded_split_data\n",
    "from weighted_mean_prediction.random_forest.model_data_helpers import save_model, load_rf_model\n",
    "from weighted_mean_prediction.regression_performance import evaluate_model, get_all_metrics"
   ],
   "metadata": {
    "collapsed": false,
    "pycharm": {
     "name": "#%%\n"
    }
   }
  },
  {
   "cell_type": "code",
   "execution_count": 16,
   "metadata": {
    "collapsed": true
   },
   "outputs": [],
   "source": [
    "def train_base_model(X_train: pd.DataFrame, y_train: pd.DataFrame,\n",
    "                     file_path: str) -> RandomForestRegressor:\n",
    "    model = RandomForestRegressor(random_state=0)\n",
    "    model.fit(X_train, y_train)\n",
    "    save_model(model, file_path)\n",
    "    return model"
   ]
  },
  {
   "cell_type": "code",
   "execution_count": 17,
   "outputs": [],
   "source": [
    "model_dir = f\"{ROOT_DIR}/weighted_mean_prediction/random_forest/models\"\n",
    "model_path = os.path.join(model_dir, \"base_rf_model.joblib\")"
   ],
   "metadata": {
    "collapsed": false,
    "pycharm": {
     "name": "#%%\n"
    }
   }
  },
  {
   "cell_type": "code",
   "execution_count": 18,
   "outputs": [],
   "source": [
    "X_train, _, X_test, y_train, _, y_test = get_encoded_split_data()\n",
    "\n",
    "rf = load_rf_model(model_path)\n",
    "rf = rf if rf is not None else train_base_model(X_train, y_train[\"weighted_mean\"], model_path)"
   ],
   "metadata": {
    "collapsed": false,
    "pycharm": {
     "name": "#%%\n"
    }
   }
  },
  {
   "cell_type": "code",
   "execution_count": 19,
   "outputs": [],
   "source": [
    "predictions, errors = evaluate_model(rf, X_test, y_test[\"weighted_mean\"])"
   ],
   "metadata": {
    "collapsed": false,
    "pycharm": {
     "name": "#%%\n"
    }
   }
  },
  {
   "cell_type": "code",
   "execution_count": null,
   "outputs": [],
   "source": [
    "for k, v in get_all_metrics(y_test, predictions).items():\n",
    "    print(f\"{k}: {v}\")"
   ],
   "metadata": {
    "collapsed": false,
    "pycharm": {
     "name": "#%%\n",
     "is_executing": true
    }
   }
  },
  {
   "cell_type": "code",
   "execution_count": 23,
   "outputs": [],
   "source": [
    "importances = rf.feature_importances_"
   ],
   "metadata": {
    "collapsed": false,
    "pycharm": {
     "name": "#%%\n"
    }
   }
  },
  {
   "cell_type": "code",
   "execution_count": 24,
   "outputs": [
    {
     "name": "stdout",
     "output_type": "stream",
     "text": [
      "0 : 0.007865448259999989\n",
      "1 : 0.006461379183760396\n",
      "2 : 0.008316254717610468\n",
      "3 : 0.007064202001030457\n",
      "4 : 0.006551803009085934\n",
      "5 : 0.008248269844861024\n",
      "6 : 0.007173758957398306\n",
      "7 : 0.00823789169808416\n",
      "8 : 0.007837438121162763\n",
      "9 : 0.013400551364372808\n",
      "10 : 0.017370484009502318\n",
      "11 : 0.0141320220769113\n",
      "12 : 0.017061727277213397\n",
      "13 : 0.01640069530020304\n",
      "14 : 0.014965635830140519\n",
      "15 : 0.012761237829092109\n",
      "16 : 0.013899277515981901\n",
      "17 : 0.009911639133792213\n",
      "18 : 0.009271444522144004\n",
      "19 : 0.007052451409331255\n",
      "20 : 0.008410608153731784\n",
      "21 : 0.007983248128053297\n",
      "22 : 0.008640039123713993\n",
      "23 : 0.007041228301705905\n",
      "24 : 0.009126174730991284\n",
      "25 : 0.013270727511957252\n",
      "26 : 0.022303675618783464\n",
      "27 : 0.007967285154374148\n",
      "28 : 0.007121233839310456\n",
      "29 : 0.006955989437819602\n",
      "30 : 0.007445422453211654\n",
      "31 : 0.007382248667945393\n",
      "32 : 0.006774728428401612\n",
      "33 : 0.007556206752527288\n",
      "34 : 0.006789419039207426\n",
      "35 : 0.006424002873253105\n",
      "dG_pairing : 0.5252661756842328\n",
      "dG_folding : 0.11955797403910116\n"
     ]
    }
   ],
   "source": [
    "for idx, importance in enumerate(importances):\n",
    "    print(f\"{X_train.columns[idx]} : {importance}\")"
   ],
   "metadata": {
    "collapsed": false,
    "pycharm": {
     "name": "#%%\n"
    }
   }
  },
  {
   "cell_type": "code",
   "execution_count": 28,
   "outputs": [
    {
     "data": {
      "text/plain": "<Figure size 432x288 with 1 Axes>",
      "image/png": "[encoded data removed]"
     },
     "metadata": {
      "needs_background": "light"
     },
     "output_type": "display_data"
    }
   ],
   "source": [
    "import numpy as np\n",
    "import matplotlib.pyplot as plt\n",
    "plt.imshow(importances[:-2].view().reshape((4, 9 )))\n",
    "plt.show()"
   ],
   "metadata": {
    "collapsed": false,
    "pycharm": {
     "name": "#%%\n"
    }
   }
  }
 ],
 "metadata": {
  "kernelspec": {
   "display_name": "Python 3",
   "language": "python",
   "name": "python3"
  },
  "language_info": {
   "codemirror_mode": {
    "name": "ipython",
    "version": 2
   },
   "file_extension": ".py",
   "mimetype": "text/x-python",
   "name": "python",
   "nbconvert_exporter": "python",
   "pygments_lexer": "ipython2",
   "version": "2.7.6"
  }
 },
 "nbformat": 4,
 "nbformat_minor": 0
}